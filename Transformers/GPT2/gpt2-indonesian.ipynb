{
 "cells": [
  {
   "cell_type": "markdown",
   "metadata": {},
   "source": [
    "# GPT-2 with Indonesian Wikipedia"
   ]
  },
  {
   "cell_type": "code",
   "execution_count": 1,
   "metadata": {},
   "outputs": [],
   "source": [
    "import torch\n",
    "from transformers import TFGPT2LMHeadModel, GPT2Tokenizer, GPT2LMHeadModel"
   ]
  },
  {
   "cell_type": "code",
   "execution_count": 2,
   "metadata": {},
   "outputs": [],
   "source": [
    "tokenizer = GPT2Tokenizer.from_pretrained(\"cahya/gpt2-small-indonesian-522M\")\n",
    "\n",
    "# add the EOS token as PAD token to avoid warnings\n",
    "model = GPT2LMHeadModel.from_pretrained(\"cahya/gpt2-small-indonesian-522M\", pad_token_id=tokenizer.eos_token_id)"
   ]
  },
  {
   "cell_type": "markdown",
   "metadata": {},
   "source": [
    "## Text Generation"
   ]
  },
  {
   "cell_type": "code",
   "execution_count": 3,
   "metadata": {},
   "outputs": [],
   "source": [
    "input_sentences = [\n",
    "    'Cirebon adalah sebuah kota kecil di Jawa Barat dengan keindahannya yang melebihi kota Bandung',\n",
    "    'Sriwijaya adalah salah satu kemaharajaan bahari yang pernah berdiri di pulau Sumatra dan banyak memberi pengaruh di Nusantara dengan daerah kekuasaan yang luas',\n",
    "    'Pantai berpasir putih ini cukup populer akhir-akhir ini karena menawarkan pemandangan yang begitu eksotis dan mempesona.',\n",
    "    'Perbukitan yang hijau dipenuhi dengan pepohonan tropis yang lengkap dengan area persawahan dan lembah'    \n",
    "]"
   ]
  },
  {
   "cell_type": "code",
   "execution_count": 4,
   "metadata": {},
   "outputs": [
    {
     "name": "stderr",
     "output_type": "stream",
     "text": [
      "Setting `pad_token_id` to 50256 (first `eos_token_id`) to generate sequence\n",
      "Setting `pad_token_id` to 50256 (first `eos_token_id`) to generate sequence\n"
     ]
    },
    {
     "name": "stdout",
     "output_type": "stream",
     "text": [
      "Output:\n",
      "----------------------------------------------------------------------------------------------------\n",
      "0: Cirebon adalah sebuah kota kecil di Jawa Barat dengan keindahannya yang melebihi kota Bandung, Jawa Barat, Indonesia.  Kota ini didirikan pada tahun 1946 dengan sebutan \"Calabo\" (bahasa Indonesia: \"Balabo\") (Bahasa Indonesia: \"Badiwa\") yang artinya kota ini memiliki sejarah yang panjang dan sedikit yang lebih luas. Kota ini hanya terdapat di sekitar kota Bandung, tetapi di beberapa kota besar, melainkan banyak kota di kota kecil saja seperti kota Bandung, dan beberapa kota di luar pulau\n"
     ]
    },
    {
     "name": "stderr",
     "output_type": "stream",
     "text": [
      "Setting `pad_token_id` to 50256 (first `eos_token_id`) to generate sequence\n"
     ]
    },
    {
     "name": "stdout",
     "output_type": "stream",
     "text": [
      "Output:\n",
      "----------------------------------------------------------------------------------------------------\n",
      "1: Sriwijaya adalah salah satu kemaharajaan bahari yang pernah berdiri di pulau Sumatra dan banyak memberi pengaruh di Nusantara dengan daerah kekuasaan yang luas pada tahun 1685 – 1177. Kerajaan ini pertama kali dijadikan salah satu kota yang sangat populer dan dibangun di Sulawesi Selatan.  Kerajaan kerajaan ini dibentuk oleh Sultan Agung Agung, yaitu penguasa Kerajaan Sriwijaya tahun 1387 M (tahun 1063 M), dan merupakan salah satu dari Kerajaan Sriwijaya yang memerintah selama Perang Dunia I. Raja ini sendiri berasal dari Kerajaan Sumbawa dan kemudian menetap di Sumatra\n"
     ]
    },
    {
     "name": "stderr",
     "output_type": "stream",
     "text": [
      "Setting `pad_token_id` to 50256 (first `eos_token_id`) to generate sequence\n"
     ]
    },
    {
     "name": "stdout",
     "output_type": "stream",
     "text": [
      "Output:\n",
      "----------------------------------------------------------------------------------------------------\n",
      "2: Pantai berpasir putih ini cukup populer akhir-akhir ini karena menawarkan pemandangan yang begitu eksotis dan mempesona. Pantai ini bisa kita bisa berenang dan bisa merasakan rasa dingin di udara kering. Pantai ini letaknya di bagian timur pantai. Pantai ini sangat indah. Pantai ini letaknya sangat sangat sejuk dan sejuk dan sejuk. Pantai ini memiliki pemandangan yang indah. Pantai ini sangat sejuk dan baik, dapat diakses dengan baik dari kota kota-kota kecil maupun tempat-tempat tertentu seperti Pantai Gading. Pantai ini biasanya banyak ditemui di daerah kota lain\n",
      "Output:\n",
      "----------------------------------------------------------------------------------------------------\n",
      "3: Perbukitan yang hijau dipenuhi dengan pepohonan tropis yang lengkap dengan area persawahan dan lembah yang indah, serta pegunungan tropis, di sebelah utara, sungai dengan puncak pegunungan. Pada umumnya, kawasan hutan ini memiliki iklim tropis yang subur dan tropis. Rata-rata suhu yang rendah mencapai 1,2 %. Suhu rata-rata rata-rata 25,4 mm / tahun dengan suhu rata-rata 23,3 mm / tahun. Suhu rata-rata antara 5-4 hari dan rata-rata tahunan adalah 23-3 mm\n"
     ]
    }
   ],
   "source": [
    "torch.manual_seed(3)\n",
    "for i, sentence in enumerate(input_sentences):\n",
    "    input_ids = tokenizer.encode(sentence, return_tensors='pt')\n",
    "    sample_output = model.generate(\n",
    "        input_ids,\n",
    "        do_sample=True, \n",
    "        max_length=100, \n",
    "        top_k=50, \n",
    "        top_p=0.95\n",
    "    )\n",
    "    print(\"Output:\\n\" + 100 * '-')\n",
    "    print(\"{}: {}\".format(i, tokenizer.decode(sample_output[0], skip_special_tokens=True)))"
   ]
  },
  {
   "cell_type": "markdown",
   "metadata": {},
   "source": [
    "## Other Tasks"
   ]
  },
  {
   "cell_type": "code",
   "execution_count": null,
   "metadata": {},
   "outputs": [],
   "source": []
  }
 ],
 "metadata": {
  "kernelspec": {
   "display_name": "Python 3",
   "language": "python",
   "name": "python3"
  },
  "language_info": {
   "codemirror_mode": {
    "name": "ipython",
    "version": 3
   },
   "file_extension": ".py",
   "mimetype": "text/x-python",
   "name": "python",
   "nbconvert_exporter": "python",
   "pygments_lexer": "ipython3",
   "version": "3.7.7"
  }
 },
 "nbformat": 4,
 "nbformat_minor": 4
}
